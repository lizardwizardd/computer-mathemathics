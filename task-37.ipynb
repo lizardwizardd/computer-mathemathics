{
 "cells": [
  {
   "attachments": {},
   "cell_type": "markdown",
   "metadata": {},
   "source": [
    "## 37. Оценка внутреннего коэффициента воспроизводства. Решение нелинейного уравнения\n",
    "\n",
    "[Birch L.C. The intrinsic rate of natural increase of an insect population. The Journal of Animal Ecology (1948): 15-26]\n",
    "\n",
    "В статье приводятся данные и анализируются данные о вероятностях дожития и фертильности особей рисового жука долгоносика (Calandra oryzae), выращиваемых в оптимальных условиях (29 градусов C, пшеница, 14% влажность)\n",
    "\n",
    "Ниже в таблице для возраста $t$ (в неделях) особи женского пола указаны:\n",
    "* $l_t$ – вероятность дожития до этого возраста;\n",
    "* $m_t$ – среднее число потомков женского пола, рожденных одной особью в этом возрасте.\n",
    "\n",
    "```\n",
    "  t   l_t  m_t  \n",
    "----------------  \n",
    "  4.5 0.87 20.0\n",
    "  5.5 0.83 23.0\n",
    "  6.5 0.81 15.0\n",
    "  7.5 0.80 12.5\n",
    "  8.5 0.79 12.5\n",
    "  9.5 0.77 14.0\n",
    " 10.5 0.74 12.5\n",
    " 11.5 0.66 14.5\n",
    " 12.5 0.59 11.0\n",
    " 13.5 0.52  9.5\n",
    " 14.5 0.45  2.5\n",
    " 15.5 0.36  2.5\n",
    " 16.5 0.29  2.5\n",
    " 17.5 0.25  4.0\n",
    " 18.5 0.19  1.0\n",
    "```\n",
    "\n",
    "По данным найдите *чистый коэффициент воспроизводства* (net reproduction rate)\n",
    "$$\n",
    "R_0 = \\sum_{t} l_t m_t\n",
    "$$\n",
    "Этот коэффициент равен среднему количеству особей, которых рождает самка за всю жизнь (или, что то же самое, множитель, на который умножается численность популяции за одно поколение), если популяция живет в идеальных условиях на неограниченной территории. \n",
    "\n",
    "Коэффициент $R_0$ следует отличать от *внутреннего коэффициента естественной репродукции* (Intrinsic Rate of Natural Increase) $r$ – множитель на каждую особь, на который умножается численность популяции, живущей в определенных условиях на неограниченной территории.\n",
    "$$\n",
    "N' = r N,\n",
    "\\qquad\n",
    "N = N_0 e^{rt}\n",
    "$$\n",
    "\n",
    "Коэффициент $r$ равен $r = b - d$ (birth-rate - death-rate)\n",
    "\n",
    "$r$ можно определить по $R_0$ путем решения уравнения \n",
    "$$\n",
    "\\sum_t e^{-rt} l_t m_t = 1.\n",
    "$$\n",
    "\n",
    "Построить график функции в левой части уравнения. Подобрать показательный диапазон для $r$.\n",
    "\n",
    "Численно решить данное нелинейное уравнение, используя `scipy.optimize.brentq`.\n",
    "\n",
    "(Ответ: 0.7620)"
   ]
  },
  {
   "cell_type": "code",
   "execution_count": 51,
   "metadata": {},
   "outputs": [],
   "source": [
    "# Подключение библиотек\n",
    "\n",
    "import matplotlib.pyplot as plt\n",
    "import numpy as np\n",
    "from scipy.optimize import brentq\n",
    "from math import e"
   ]
  },
  {
   "cell_type": "code",
   "execution_count": 52,
   "metadata": {},
   "outputs": [],
   "source": [
    "# Внесение данных\n",
    "\n",
    "t = [4.5, 5.5, 6.5, 7.5, 8.5, 9.5, 10.5, 11.5, 12.5, 13.5, 14.5, 15.5, 16.5, 17.5, 18.5]\n",
    "l_t = [0.87, 0.83, 0.81, 0.80, 0.79, 0.77, 0.74, 0.66, 0.59, 0.52, 0.45, 0.36, 0.29, 0.25, 0.19]\n",
    "m_t = [20.0, 23.0, 15.0, 12.5, 12.5, 14.0, 12.5, 14.5, 11.0, 9.5, 2.5, 2.5, 2.5, 4.0, 1.0]"
   ]
  },
  {
   "attachments": {},
   "cell_type": "markdown",
   "metadata": {},
   "source": [
    "Найдем *чистый коэффициент воспроизводства* по формуле:\n",
    "$$\n",
    "R_0 = \\sum_{t} l_t m_t\n",
    "$$"
   ]
  },
  {
   "cell_type": "code",
   "execution_count": 53,
   "metadata": {},
   "outputs": [
    {
     "name": "stdout",
     "output_type": "stream",
     "text": [
      "113.48499999999997\n"
     ]
    }
   ],
   "source": [
    "reproduction_rate = 0\n",
    "\n",
    "for i in range(len(t)):\n",
    "    reproduction_rate += l_t[i] * m_t[i]\n",
    "\n",
    "print(reproduction_rate)"
   ]
  },
  {
   "attachments": {},
   "cell_type": "markdown",
   "metadata": {},
   "source": [
    "Определим функцию *f* для нахождения *внутреннего коэффициента естественной репродукции* *r* по формуле:\n",
    "$$\n",
    "\\sum_t e^{-rt} l_t m_t = 1.\n",
    "$$"
   ]
  },
  {
   "cell_type": "code",
   "execution_count": 54,
   "metadata": {},
   "outputs": [],
   "source": [
    "def f(x):\n",
    "    s = 0\n",
    "    for i in range(len(t)):\n",
    "        s += e ** (-x * t[i]) * l_t[i] * m_t[i]\n",
    "    return s - 1 "
   ]
  },
  {
   "attachments": {},
   "cell_type": "markdown",
   "metadata": {},
   "source": [
    "Найдем *r* с помощью Метода Брента"
   ]
  },
  {
   "cell_type": "code",
   "execution_count": 55,
   "metadata": {},
   "outputs": [
    {
     "name": "stdout",
     "output_type": "stream",
     "text": [
      "0.7619840766979867\n"
     ]
    }
   ],
   "source": [
    "r = brentq(f, -1, 1)\n",
    "print(r)"
   ]
  },
  {
   "attachments": {},
   "cell_type": "markdown",
   "metadata": {},
   "source": [
    "Построим график функции *f* в левой части уравнения"
   ]
  },
  {
   "cell_type": "code",
   "execution_count": 56,
   "metadata": {},
   "outputs": [],
   "source": [
    "# Определение функции f_left для нахождения левой части f\n",
    "\n",
    "def f_left(x):\n",
    "    s = 0\n",
    "    for i in range(len(t)):\n",
    "        s += e ** (-x * t[i]) * l_t[i] * m_t[i]\n",
    "    return s "
   ]
  },
  {
   "cell_type": "code",
   "execution_count": 57,
   "metadata": {},
   "outputs": [
    {
     "data": {
      "text/plain": [
       "<matplotlib.legend.Legend at 0x1bdf8997310>"
      ]
     },
     "execution_count": 57,
     "metadata": {},
     "output_type": "execute_result"
    },
    {
     "data": {
      "image/png": "[encoded data removed]",
      "text/plain": [
       "<Figure size 640x480 with 1 Axes>"
      ]
     },
     "metadata": {},
     "output_type": "display_data"
    }
   ],
   "source": [
    "x = np.linspace(0.5, 1.2)\n",
    "y = f_left(x)\n",
    "plt.plot(x, y)\n",
    "plt.scatter(r, f_left(r), s = 70)\n",
    "plt.xlabel('Значение x')\n",
    "plt.ylabel('Значение f_left')\n",
    "plt.legend([\"f_left\", \"r\"])"
   ]
  }
 ],
 "metadata": {
  "kernelspec": {
   "display_name": "Python 3",
   "language": "python",
   "name": "python3"
  },
  "language_info": {
   "codemirror_mode": {
    "name": "ipython",
    "version": 3
   },
   "file_extension": ".py",
   "mimetype": "text/x-python",
   "name": "python",
   "nbconvert_exporter": "python",
   "pygments_lexer": "ipython3",
   "version": "3.11.2"
  },
  "orig_nbformat": 4
 },
 "nbformat": 4,
 "nbformat_minor": 2
}
